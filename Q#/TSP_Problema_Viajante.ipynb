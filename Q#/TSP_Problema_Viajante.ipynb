{
 "cells": [
  {
   "cell_type": "code",
   "execution_count": 8,
   "id": "fbfefe74-a7e2-4268-a650-db9ecc55b554",
   "metadata": {},
   "outputs": [],
   "source": [
    "import os\n",
    "import qsharp\n",
    "import azure.quantum\n",
    "\n",
    "from dotenv import load_dotenv"
   ]
  },
  {
   "cell_type": "code",
   "execution_count": 9,
   "id": "7b05ca4c-3d52-42d8-89bb-fe606659e2ce",
   "metadata": {},
   "outputs": [
    {
     "data": {
      "text/plain": [
       "True"
      ]
     },
     "execution_count": 9,
     "metadata": {},
     "output_type": "execute_result"
    }
   ],
   "source": [
    "load_dotenv('.env')"
   ]
  },
  {
   "cell_type": "code",
   "execution_count": 11,
   "id": "74e724c3-4ed0-4d0a-bc00-295183fed39a",
   "metadata": {},
   "outputs": [],
   "source": [
    "%%qsharp  \n",
    "open Microsoft.Quantum.Canon;  \n",
    "open Microsoft.Quantum.Intrinsic;  \n",
    "open Microsoft.Quantum.Diagnostics;  \n",
    "  \n",
    "operation SolveTSP() : Unit {  \n",
    "    Message(\"Solving TSP...\");  \n",
    "    // Aquí puedes definir tu algoritmo cuántico para resolver el problema  \n",
    "    // Por simplicidad, este es solo un ejemplo de cómo podrías estructurarlo  \n",
    "  \n",
    "    // Este es un simple mensaje de prueba  \n",
    "    Message(\"Optimal route: [0, 1, 2, 3]\");  \n",
    "    Message(\"Cost: 20.0\");  \n",
    "}  "
   ]
  },
  {
   "cell_type": "code",
   "execution_count": 13,
   "id": "b900b7b7-e26a-451c-a40a-e75ee0c88ac8",
   "metadata": {},
   "outputs": [
    {
     "data": {
      "text/plain": [
       "'<Global> <item 2 in package 3>'"
      ]
     },
     "execution_count": 13,
     "metadata": {},
     "output_type": "execute_result"
    }
   ],
   "source": [
    "qsharp.eval(\"SolveTSP\")"
   ]
  },
  {
   "cell_type": "code",
   "execution_count": 22,
   "id": "ebd2494d-03a0-45a2-bcd4-9a8c818bbeef",
   "metadata": {
    "scrolled": true
   },
   "outputs": [
    {
     "data": {
      "text/plain": [
       "['<Global> <item 2 in package 3>',\n",
       " '<Global> <item 2 in package 3>',\n",
       " '<Global> <item 2 in package 3>',\n",
       " '<Global> <item 2 in package 3>',\n",
       " '<Global> <item 2 in package 3>',\n",
       " '<Global> <item 2 in package 3>',\n",
       " '<Global> <item 2 in package 3>',\n",
       " '<Global> <item 2 in package 3>',\n",
       " '<Global> <item 2 in package 3>',\n",
       " '<Global> <item 2 in package 3>',\n",
       " '<Global> <item 2 in package 3>',\n",
       " '<Global> <item 2 in package 3>',\n",
       " '<Global> <item 2 in package 3>',\n",
       " '<Global> <item 2 in package 3>',\n",
       " '<Global> <item 2 in package 3>',\n",
       " '<Global> <item 2 in package 3>',\n",
       " '<Global> <item 2 in package 3>',\n",
       " '<Global> <item 2 in package 3>',\n",
       " '<Global> <item 2 in package 3>',\n",
       " '<Global> <item 2 in package 3>',\n",
       " '<Global> <item 2 in package 3>',\n",
       " '<Global> <item 2 in package 3>',\n",
       " '<Global> <item 2 in package 3>',\n",
       " '<Global> <item 2 in package 3>',\n",
       " '<Global> <item 2 in package 3>',\n",
       " '<Global> <item 2 in package 3>',\n",
       " '<Global> <item 2 in package 3>',\n",
       " '<Global> <item 2 in package 3>',\n",
       " '<Global> <item 2 in package 3>',\n",
       " '<Global> <item 2 in package 3>',\n",
       " '<Global> <item 2 in package 3>',\n",
       " '<Global> <item 2 in package 3>',\n",
       " '<Global> <item 2 in package 3>',\n",
       " '<Global> <item 2 in package 3>',\n",
       " '<Global> <item 2 in package 3>',\n",
       " '<Global> <item 2 in package 3>',\n",
       " '<Global> <item 2 in package 3>',\n",
       " '<Global> <item 2 in package 3>',\n",
       " '<Global> <item 2 in package 3>',\n",
       " '<Global> <item 2 in package 3>',\n",
       " '<Global> <item 2 in package 3>',\n",
       " '<Global> <item 2 in package 3>',\n",
       " '<Global> <item 2 in package 3>',\n",
       " '<Global> <item 2 in package 3>',\n",
       " '<Global> <item 2 in package 3>',\n",
       " '<Global> <item 2 in package 3>',\n",
       " '<Global> <item 2 in package 3>',\n",
       " '<Global> <item 2 in package 3>',\n",
       " '<Global> <item 2 in package 3>',\n",
       " '<Global> <item 2 in package 3>',\n",
       " '<Global> <item 2 in package 3>',\n",
       " '<Global> <item 2 in package 3>',\n",
       " '<Global> <item 2 in package 3>',\n",
       " '<Global> <item 2 in package 3>',\n",
       " '<Global> <item 2 in package 3>',\n",
       " '<Global> <item 2 in package 3>',\n",
       " '<Global> <item 2 in package 3>',\n",
       " '<Global> <item 2 in package 3>',\n",
       " '<Global> <item 2 in package 3>',\n",
       " '<Global> <item 2 in package 3>',\n",
       " '<Global> <item 2 in package 3>',\n",
       " '<Global> <item 2 in package 3>',\n",
       " '<Global> <item 2 in package 3>',\n",
       " '<Global> <item 2 in package 3>',\n",
       " '<Global> <item 2 in package 3>',\n",
       " '<Global> <item 2 in package 3>',\n",
       " '<Global> <item 2 in package 3>',\n",
       " '<Global> <item 2 in package 3>',\n",
       " '<Global> <item 2 in package 3>',\n",
       " '<Global> <item 2 in package 3>',\n",
       " '<Global> <item 2 in package 3>',\n",
       " '<Global> <item 2 in package 3>',\n",
       " '<Global> <item 2 in package 3>',\n",
       " '<Global> <item 2 in package 3>',\n",
       " '<Global> <item 2 in package 3>',\n",
       " '<Global> <item 2 in package 3>',\n",
       " '<Global> <item 2 in package 3>',\n",
       " '<Global> <item 2 in package 3>',\n",
       " '<Global> <item 2 in package 3>',\n",
       " '<Global> <item 2 in package 3>',\n",
       " '<Global> <item 2 in package 3>',\n",
       " '<Global> <item 2 in package 3>',\n",
       " '<Global> <item 2 in package 3>',\n",
       " '<Global> <item 2 in package 3>',\n",
       " '<Global> <item 2 in package 3>',\n",
       " '<Global> <item 2 in package 3>',\n",
       " '<Global> <item 2 in package 3>',\n",
       " '<Global> <item 2 in package 3>',\n",
       " '<Global> <item 2 in package 3>',\n",
       " '<Global> <item 2 in package 3>',\n",
       " '<Global> <item 2 in package 3>',\n",
       " '<Global> <item 2 in package 3>',\n",
       " '<Global> <item 2 in package 3>',\n",
       " '<Global> <item 2 in package 3>',\n",
       " '<Global> <item 2 in package 3>',\n",
       " '<Global> <item 2 in package 3>',\n",
       " '<Global> <item 2 in package 3>',\n",
       " '<Global> <item 2 in package 3>',\n",
       " '<Global> <item 2 in package 3>',\n",
       " '<Global> <item 2 in package 3>']"
      ]
     },
     "execution_count": 22,
     "metadata": {},
     "output_type": "execute_result"
    }
   ],
   "source": [
    "# Ejecutar la operación SolveTSP  \n",
    "result = qsharp.run(\"SolveTSP\", shots=100)\n",
    "result"
   ]
  },
  {
   "cell_type": "code",
   "execution_count": 18,
   "id": "f68f9691-0d3f-425c-a435-47708f616a2f",
   "metadata": {},
   "outputs": [
    {
     "ename": "AttributeError",
     "evalue": "module 'azure' has no attribute 'execute'",
     "output_type": "error",
     "traceback": [
      "\u001b[0;31m---------------------------------------------------------------------------\u001b[0m",
      "\u001b[0;31mAttributeError\u001b[0m                            Traceback (most recent call last)",
      "Cell \u001b[0;32mIn[18], line 2\u001b[0m\n\u001b[1;32m      1\u001b[0m \u001b[38;5;66;03m# Enviar el trabajo a Azure Quantum  \u001b[39;00m\n\u001b[0;32m----> 2\u001b[0m job \u001b[38;5;241m=\u001b[39m \u001b[43mazure\u001b[49m\u001b[38;5;241;43m.\u001b[39;49m\u001b[43mexecute\u001b[49m(\u001b[38;5;124m\"\u001b[39m\u001b[38;5;124mSolveTSP\u001b[39m\u001b[38;5;124m\"\u001b[39m, shots\u001b[38;5;241m=\u001b[39m\u001b[38;5;241m100\u001b[39m)  \n\u001b[1;32m      3\u001b[0m job\u001b[38;5;241m.\u001b[39mwait_until_completed()  \n\u001b[1;32m      4\u001b[0m \u001b[38;5;28mprint\u001b[39m(job\u001b[38;5;241m.\u001b[39mresult())  \n",
      "\u001b[0;31mAttributeError\u001b[0m: module 'azure' has no attribute 'execute'"
     ]
    }
   ],
   "source": [
    "# Enviar el trabajo a Azure Quantum  \n",
    "job = azure.execute(\"SolveTSP\", shots=100)  \n",
    "job.wait_until_completed()  \n",
    "print(job.result())  "
   ]
  },
  {
   "cell_type": "code",
   "execution_count": null,
   "id": "02a7322d-a590-403a-9f35-38ffc0b8f2d8",
   "metadata": {},
   "outputs": [],
   "source": []
  }
 ],
 "metadata": {
  "kernelspec": {
   "display_name": "Python 3 (ipykernel)",
   "language": "python",
   "name": "python3"
  },
  "language_info": {
   "codemirror_mode": {
    "name": "ipython",
    "version": 3
   },
   "file_extension": ".py",
   "mimetype": "text/x-python",
   "name": "python",
   "nbconvert_exporter": "python",
   "pygments_lexer": "ipython3",
   "version": "3.11.1"
  }
 },
 "nbformat": 4,
 "nbformat_minor": 5
}
