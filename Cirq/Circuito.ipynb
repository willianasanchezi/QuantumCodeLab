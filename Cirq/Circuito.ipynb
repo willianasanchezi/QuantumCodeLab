{
 "cells": [
  {
   "cell_type": "code",
   "execution_count": 11,
   "id": "506b2e39-ce3f-4385-93f0-4dbaf3b4c507",
   "metadata": {},
   "outputs": [
    {
     "name": "stdout",
     "output_type": "stream",
     "text": [
      "Referencia\n"
     ]
    }
   ],
   "source": [
    "\"\"\"\n",
    "https://learn.microsoft.com/es-es/azure/quantum/quickstart-microsoft-cirq?tabs=tabid-ionq&pivots=platform-local\n",
    "\"\"\"\n",
    "print(\"Referencia\")"
   ]
  },
  {
   "cell_type": "markdown",
   "id": "864bc684-ed08-468d-992e-c211290da49c",
   "metadata": {},
   "source": [
    "### Ejecuccion Equipo Local"
   ]
  },
  {
   "cell_type": "code",
   "execution_count": 12,
   "id": "6708b294-7df2-40e3-b538-08367d623a84",
   "metadata": {},
   "outputs": [],
   "source": [
    "import os\n",
    "import azure.quantum\n",
    "import cirq\n",
    "\n",
    "from azure.quantum.cirq import AzureQuantumService\n",
    "from dotenv import load_dotenv"
   ]
  },
  {
   "cell_type": "code",
   "execution_count": 13,
   "id": "e0e1f6e3-63b3-485a-8615-9c96c298905b",
   "metadata": {},
   "outputs": [
    {
     "data": {
      "text/plain": [
       "True"
      ]
     },
     "execution_count": 13,
     "metadata": {},
     "output_type": "execute_result"
    }
   ],
   "source": [
    "load_dotenv('.env')"
   ]
  },
  {
   "cell_type": "markdown",
   "id": "1d37abfc-8115-476b-ba4e-3fd0ddcd3c90",
   "metadata": {},
   "source": [
    "### Ejecuccion Azure"
   ]
  },
  {
   "cell_type": "code",
   "execution_count": 14,
   "id": "7195e452-13ac-4c99-a6ee-5efa964ccefc",
   "metadata": {},
   "outputs": [],
   "source": [
    "resource_id = os.getenv(\"resource_id\")\n",
    "location = os.getenv(\"location\")"
   ]
  },
  {
   "cell_type": "code",
   "execution_count": 16,
   "id": "17394859-97ab-4621-8e8e-c0a81ffc3959",
   "metadata": {},
   "outputs": [],
   "source": [
    "workspace = azure.quantum.Workspace(\n",
    "    resource_id = resource_id,\n",
    "    location = location\n",
    ")\n",
    "service = AzureQuantumService(workspace)"
   ]
  },
  {
   "cell_type": "code",
   "execution_count": 17,
   "id": "933065b3-211a-4d42-8d5b-a140b77ea95c",
   "metadata": {},
   "outputs": [
    {
     "name": "stdout",
     "output_type": "stream",
     "text": [
      "Abriendo en una sesión existente del navegador\n",
      "[<Target name=\"ionq.qpu.aria-1\", avg. queue time=0 s, Available>, <Target name=\"ionq.qpu.aria-2\", avg. queue time=0 s, Unavailable>, <Target name=\"ionq.simulator\", avg. queue time=0 s, Available>, <Target name=\"quantinuum.qpu.h1-1\", avg. queue time=0 s, Degraded>, <Target name=\"quantinuum.sim.h1-1sc\", avg. queue time=16 s, Available>, <Target name=\"quantinuum.sim.h1-1e\", avg. queue time=100 s, Available>]\n"
     ]
    }
   ],
   "source": [
    "print(service.targets())"
   ]
  },
  {
   "cell_type": "code",
   "execution_count": 18,
   "id": "be4466ec-39fb-4180-a73e-8c0e5630ef9c",
   "metadata": {},
   "outputs": [
    {
     "name": "stdout",
     "output_type": "stream",
     "text": [
      "0: ───X^0.5───@───M('b')───\n",
      "              │   │\n",
      "1: ───────────X───M────────\n"
     ]
    }
   ],
   "source": [
    "q0, q1 = cirq.LineQubit.range(2)\n",
    "circuit = cirq.Circuit(\n",
    "    cirq.X(q0)**0.5,             # Square root of X\n",
    "    cirq.CX(q0, q1),              # CNOT\n",
    "    cirq.measure(q0, q1, key='b') # Measure both qubits\n",
    ")\n",
    "print(circuit)"
   ]
  },
  {
   "cell_type": "code",
   "execution_count": 19,
   "id": "58dfaaeb-3cec-4b54-9381-5738d20fa974",
   "metadata": {},
   "outputs": [
    {
     "name": "stdout",
     "output_type": "stream",
     "text": [
      "Abriendo en una sesión existente del navegador\n"
     ]
    }
   ],
   "source": [
    "result = service.run(program=circuit, repetitions=100, target=\"ionq.simulator\")"
   ]
  },
  {
   "cell_type": "code",
   "execution_count": 20,
   "id": "0521b7a7-455d-465b-abde-41be7eda271d",
   "metadata": {},
   "outputs": [
    {
     "name": "stdout",
     "output_type": "stream",
     "text": [
      "b=0110100011101111010011011011101010110111110100111100111000110000111000111011001011000011101111111101, 0110100011101111010011011011101010110111110100111100111000110000111000111011001011000011101111111101\n"
     ]
    }
   ],
   "source": [
    "print(result)"
   ]
  },
  {
   "cell_type": "code",
   "execution_count": 21,
   "id": "e02c006f-5639-4612-885d-ec4219c22fec",
   "metadata": {},
   "outputs": [],
   "source": [
    "result = service.run(\n",
    "    program=circuit,\n",
    "    repetitions=100,\n",
    "    target=\"ionq.qpu.aria-1\",\n",
    "    timeout_seconds=500 # Set timeout to accommodate queue time on QPU\n",
    ")"
   ]
  },
  {
   "cell_type": "code",
   "execution_count": 22,
   "id": "017d2dae-49bb-411a-9174-efbf7b819634",
   "metadata": {},
   "outputs": [],
   "source": [
    "job = service.create_job(\n",
    "    program=circuit,\n",
    "    repetitions=100,\n",
    "    target=\"ionq.simulator\"\n",
    ")"
   ]
  },
  {
   "cell_type": "code",
   "execution_count": 23,
   "id": "dde880e9-8af1-490b-bb19-d0bc6e193b43",
   "metadata": {},
   "outputs": [
    {
     "name": "stdout",
     "output_type": "stream",
     "text": [
      "ready\n"
     ]
    }
   ],
   "source": [
    "print(job.status())"
   ]
  },
  {
   "cell_type": "code",
   "execution_count": 24,
   "id": "e0dd47fb-d3b0-4de4-8854-e8bcb0f156d4",
   "metadata": {},
   "outputs": [
    {
     "name": "stdout",
     "output_type": "stream",
     "text": [
      "00: 0.5\n",
      "11: 0.5\n"
     ]
    }
   ],
   "source": [
    "result = job.results()\n",
    "print(result)"
   ]
  },
  {
   "cell_type": "code",
   "execution_count": 25,
   "id": "5ba7c452-7bdc-470b-a647-05aa744b25d7",
   "metadata": {},
   "outputs": [
    {
     "data": {
      "text/plain": [
       "cirq_ionq.results.SimulatorResult"
      ]
     },
     "execution_count": 25,
     "metadata": {},
     "output_type": "execute_result"
    }
   ],
   "source": [
    "type(result)"
   ]
  },
  {
   "cell_type": "code",
   "execution_count": 26,
   "id": "297d75c4-2121-4475-8708-5b3b093c35d8",
   "metadata": {},
   "outputs": [
    {
     "name": "stdout",
     "output_type": "stream",
     "text": [
      "b=1001110100000000011100010000000111110110111010010100100010110011111101100101100011011111010000001000, 1001110100000000011100010000000111110110111010010100100010110011111101100101100011011111010000001000\n"
     ]
    }
   ],
   "source": [
    "print(result.to_cirq_result())"
   ]
  },
  {
   "cell_type": "code",
   "execution_count": null,
   "id": "59584b4e-9fa3-4d61-b712-8e2ec317b103",
   "metadata": {},
   "outputs": [],
   "source": []
  }
 ],
 "metadata": {
  "kernelspec": {
   "display_name": "Python 3 (ipykernel)",
   "language": "python",
   "name": "python3"
  },
  "language_info": {
   "codemirror_mode": {
    "name": "ipython",
    "version": 3
   },
   "file_extension": ".py",
   "mimetype": "text/x-python",
   "name": "python",
   "nbconvert_exporter": "python",
   "pygments_lexer": "ipython3",
   "version": "3.11.1"
  }
 },
 "nbformat": 4,
 "nbformat_minor": 5
}
