{
 "cells": [
  {
   "cell_type": "code",
   "execution_count": 2,
   "id": "62b1bb1a-744a-46f5-8f2d-9f927665a9fb",
   "metadata": {},
   "outputs": [],
   "source": [
    "# Librerias, Bibliotecas\n",
    "import qiskit\n",
    "import pylatexenc\n",
    "import matplotlib.pyplot as plt\n",
    "\n",
    "from qiskit import QuantumCircuit, transpile\n",
    "from qiskit_aer import AerSimulator"
   ]
  },
  {
   "cell_type": "code",
   "execution_count": 3,
   "id": "8eb4ba75-a981-4b96-a9f5-08f2a688a015",
   "metadata": {},
   "outputs": [],
   "source": [
    "# Crear un circuito cuántico con 1 qubit y 1 bit clásico\n",
    "circuito = QuantumCircuit(1, 1)"
   ]
  },
  {
   "cell_type": "code",
   "execution_count": 4,
   "id": "71ea233c-9eb6-469e-80f7-98584b95f5b8",
   "metadata": {},
   "outputs": [
    {
     "data": {
      "text/plain": [
       "<qiskit.circuit.instructionset.InstructionSet at 0x7f6e5c70f460>"
      ]
     },
     "execution_count": 4,
     "metadata": {},
     "output_type": "execute_result"
    }
   ],
   "source": [
    "# Aplicar una puerta Hadamard al qubit 0\n",
    "circuito.h(0)"
   ]
  },
  {
   "cell_type": "code",
   "execution_count": 5,
   "id": "2382d4fb-8f8d-41e0-85ef-afb7dc2bc36a",
   "metadata": {},
   "outputs": [
    {
     "data": {
      "text/plain": [
       "<qiskit.circuit.instructionset.InstructionSet at 0x7f6e5cc20d90>"
      ]
     },
     "execution_count": 5,
     "metadata": {},
     "output_type": "execute_result"
    }
   ],
   "source": [
    "# Medir el qubit 0 y almacenar el resultado en el bit clásico 0\n",
    "circuito.measure(0, 0)"
   ]
  },
  {
   "cell_type": "code",
   "execution_count": 6,
   "id": "cdf649ee-ad6d-4dfd-8809-71e1a310bc60",
   "metadata": {},
   "outputs": [
    {
     "data": {
      "image/png": "[encoded data removed]",
      "text/plain": [
       "<Figure size 269.064x200.667 with 1 Axes>"
      ]
     },
     "execution_count": 6,
     "metadata": {},
     "output_type": "execute_result"
    }
   ],
   "source": [
    "# Dibujar el circuito\n",
    "circuito.draw(output='mpl')"
   ]
  },
  {
   "cell_type": "code",
   "execution_count": 7,
   "id": "d4f3035c-2039-4135-a104-8dc2824e4a44",
   "metadata": {},
   "outputs": [],
   "source": [
    "# Seleccionar el simulador AerSimulator\n",
    "simulador = AerSimulator()"
   ]
  },
  {
   "cell_type": "code",
   "execution_count": 8,
   "id": "b1584a0a-c685-4c0b-855f-74aeab2665e0",
   "metadata": {},
   "outputs": [],
   "source": [
    "# Compilar el circuito para el simulador\n",
    "circuito_compilado = transpile(circuito, simulador)"
   ]
  },
  {
   "cell_type": "code",
   "execution_count": 9,
   "id": "b4aff8ca-f230-4f52-b9d6-206fe9e9c5e4",
   "metadata": {},
   "outputs": [],
   "source": [
    "# Ejecutar el circuito en el simulador con 1 o 1000 shot \n",
    "trabajo = simulador.run(circuito_compilado, shots=1000) # shots, cantidad de ejecucciones"
   ]
  },
  {
   "cell_type": "code",
   "execution_count": 10,
   "id": "5e48a508-b67d-48a7-a940-b92a0fb11551",
   "metadata": {},
   "outputs": [],
   "source": [
    "# Obtener los resultados de la ejecución\n",
    "resultado = trabajo.result()"
   ]
  },
  {
   "cell_type": "code",
   "execution_count": 11,
   "id": "5a7636b5-2f45-4532-963d-16d5ef916b82",
   "metadata": {},
   "outputs": [],
   "source": [
    "# Obtener los conteos de las mediciones\n",
    "conteos = resultado.get_counts(circuito_compilado)"
   ]
  },
  {
   "cell_type": "code",
   "execution_count": 12,
   "id": "fc909508-fad1-41e9-a48d-ce9f1e6081b9",
   "metadata": {},
   "outputs": [],
   "source": [
    "# Convertir los resultados a 'cara' o 'cruz'\n",
    "lados = {'cara' if key == '0' else 'cruz': val for key, val in conteos.items()}"
   ]
  },
  {
   "cell_type": "code",
   "execution_count": 13,
   "id": "13398cbf-af98-4f76-ad8b-f5a3b3956961",
   "metadata": {
    "scrolled": true
   },
   "outputs": [
    {
     "name": "stdout",
     "output_type": "stream",
     "text": [
      "{'cruz': 492, 'cara': 508}\n"
     ]
    }
   ],
   "source": [
    "# Imprimir los resultados\n",
    "print(lados)"
   ]
  },
  {
   "cell_type": "code",
   "execution_count": null,
   "id": "606ac71d-a6b5-459b-b8d5-6e87cd348a10",
   "metadata": {},
   "outputs": [],
   "source": []
  }
 ],
 "metadata": {
  "kernelspec": {
   "display_name": "Python 3 (ipykernel)",
   "language": "python",
   "name": "python3"
  },
  "language_info": {
   "codemirror_mode": {
    "name": "ipython",
    "version": 3
   },
   "file_extension": ".py",
   "mimetype": "text/x-python",
   "name": "python",
   "nbconvert_exporter": "python",
   "pygments_lexer": "ipython3",
   "version": "3.12.7"
  }
 },
 "nbformat": 4,
 "nbformat_minor": 5
}
